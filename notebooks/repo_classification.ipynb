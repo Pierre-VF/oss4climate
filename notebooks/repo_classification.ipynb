{
 "cells": [
  {
   "cell_type": "markdown",
   "id": "45fda25b-371b-4ccd-bfef-3cc7a3c6883a",
   "metadata": {},
   "source": [
    "# Categorising repositories\n",
    "\n",
    "This notebook is an attempt to categorise repositories and build classifiers."
   ]
  },
  {
   "cell_type": "code",
   "execution_count": null,
   "id": "11a96e79-2fbc-47de-9f8b-f6319eb14353",
   "metadata": {},
   "outputs": [],
   "source": [
    "from oss4energy.src.parsers.opensustain_tech import fetch_categorised_projects_from_from_opensustain_webpage\n",
    "from pprint import pprint\n",
    "\n",
    "categorised_repos = fetch_categorised_projects_from_from_opensustain_webpage()"
   ]
  },
  {
   "cell_type": "code",
   "execution_count": null,
   "id": "ffb4865b-defa-4ca8-98aa-3a22e8575c22",
   "metadata": {},
   "outputs": [],
   "source": [
    "pprint(list(categorised_repos.keys()))"
   ]
  },
  {
   "cell_type": "code",
   "execution_count": null,
   "id": "3a8cbfd6-22eb-4880-840b-fd71e539cb62",
   "metadata": {},
   "outputs": [],
   "source": [
    "pprint({k: list(v.keys()) for k, v in categorised_repos.items()})"
   ]
  },
  {
   "cell_type": "markdown",
   "id": "738363e2-f587-4ffd-bf57-eb65abbdb5c7",
   "metadata": {},
   "source": [
    "## Working out manual categories"
   ]
  },
  {
   "cell_type": "code",
   "execution_count": null,
   "id": "14db8317-331b-475b-bb16-a8f8bb76348b",
   "metadata": {},
   "outputs": [],
   "source": [
    "# Making manual categories to start with\n",
    "ENERGY = [\"Energy Storage\", \"Energy Systems\", \"Renewable Energy\"]\n",
    "EARTH_SCIENCE = [\"Atmosphere\", \"Hydrosphere\", \"Cryosphere\", {'Climate Change': ['Earth and Climate Modeling']}]"
   ]
  },
  {
   "cell_type": "code",
   "execution_count": null,
   "id": "c0f296e0-2d9d-43a3-974d-675dc010bd09",
   "metadata": {},
   "outputs": [],
   "source": [
    "from oss4energy.src.parsers import identify_parsing_targets\n",
    "\n",
    "def f_aggregate_to_list(repo_dict, path_labels: list[str|dict[str,list[str]]] | None = None):\n",
    "    # If not provided, the labels are set so that the whole data is imported\n",
    "    if path_labels is None:\n",
    "        path_labels = list(repo_dict.keys())\n",
    "    \n",
    "    out = list()\n",
    "    for i in path_labels:\n",
    "        sub_categories = []\n",
    "        if isinstance(i, str):\n",
    "            i_out = i\n",
    "            sub_categories = list(repo_dict.get(i).keys())\n",
    "        elif isinstance(i, dict):\n",
    "            i_out = list(i.keys())[0]\n",
    "            sub_categories = list(i.values())[0]\n",
    "            \n",
    "        for c in sub_categories:\n",
    "            out += repo_dict.get(i_out).get(c)\n",
    "\n",
    "    return identify_parsing_targets(out).as_list()"
   ]
  },
  {
   "cell_type": "code",
   "execution_count": null,
   "id": "eb5ec80a-6aea-4949-99e1-2efce96438d1",
   "metadata": {},
   "outputs": [],
   "source": [
    "print(\n",
    "    f\"\"\"Testing:\n",
    "    - ENERGY: {len(f_aggregate_to_list(categorised_repos, ENERGY))}\n",
    "    - EARTH_SCIENCE: {len(f_aggregate_to_list(categorised_repos, EARTH_SCIENCE))}\n",
    "    \"\"\"\n",
    ")"
   ]
  },
  {
   "cell_type": "markdown",
   "id": "5dd640fa-313e-4374-8aba-f3a9888b495b",
   "metadata": {},
   "source": [
    "### Building up a series of classifiers"
   ]
  },
  {
   "cell_type": "code",
   "execution_count": null,
   "id": "bba44a1b-8379-42cd-8dbc-bb326392c6b5",
   "metadata": {},
   "outputs": [],
   "source": [
    "from oss4energy.scripts.listing_search import FILE_OUTPUT_LISTING_FEATHER, SearchResults\n",
    "import pandas as pd\n",
    "\n",
    "res = SearchResults(\"../\"+FILE_OUTPUT_LISTING_FEATHER)"
   ]
  },
  {
   "cell_type": "code",
   "execution_count": null,
   "id": "986e5712-aba2-4702-8664-9fd48e54f733",
   "metadata": {},
   "outputs": [],
   "source": [
    "df_docs = res.documents.set_index(\"id\")\n",
    "print(len(df_docs))"
   ]
  },
  {
   "cell_type": "code",
   "execution_count": null,
   "id": "2257bb68-1471-4bcd-ac6a-b71be7ea3e60",
   "metadata": {},
   "outputs": [],
   "source": [
    "df_docs.head(2)"
   ]
  },
  {
   "cell_type": "markdown",
   "id": "2ce4d927-430a-4a2f-a58b-ed34d7eadd81",
   "metadata": {},
   "source": [
    "### Adding categories "
   ]
  },
  {
   "cell_type": "code",
   "execution_count": null,
   "id": "9400ff76-b6a8-4b5d-b280-d72d83f70f26",
   "metadata": {},
   "outputs": [],
   "source": [
    "repos_listed = df_docs[\"url\"].to_list()\n",
    "all_opensustain_repos = f_aggregate_to_list(categorised_repos, ENERGY)\n",
    "energy_repos = f_aggregate_to_list(categorised_repos, ENERGY)\n",
    "earth_science_repos = f_aggregate_to_list(categorised_repos, EARTH_SCIENCE)\n",
    "\n",
    "def _f_in_list(x) -> bool:\n",
    "    return x in repos_listed"
   ]
  },
  {
   "cell_type": "code",
   "execution_count": null,
   "id": "e6752a17-e410-46be-aa4e-6c0cec458a7c",
   "metadata": {},
   "outputs": [],
   "source": [
    "# Adding labels\n",
    "category_col = \"category\"\n",
    "df_docs[category_col] = \"?\"\n",
    "df_docs.loc[list(filter(_f_in_list, all_opensustain_repos)),category_col] = \"OTHER\"\n",
    "df_docs.loc[list(filter(_f_in_list, energy_repos)),category_col] = \"ENERGY\"\n",
    "df_docs.loc[list(filter(_f_in_list, earth_science_repos)),category_col] = \"EARTH_SCIENCE\""
   ]
  },
  {
   "cell_type": "code",
   "execution_count": null,
   "id": "0deaa42b-8763-4c29-8eae-ad574f7c6901",
   "metadata": {},
   "outputs": [],
   "source": [
    "df_docs.head(2)"
   ]
  },
  {
   "cell_type": "markdown",
   "id": "a136e2ff-42fb-4a3f-96f8-f0d480141c55",
   "metadata": {},
   "source": [
    "### Training classifier\n",
    "\n",
    "Tips from https://scikit-learn.org/1.5/auto_examples/text/plot_document_classification_20newsgroups.html"
   ]
  },
  {
   "cell_type": "code",
   "execution_count": null,
   "id": "12473008-07e3-4a6b-bb3a-e0fcf43e513d",
   "metadata": {},
   "outputs": [],
   "source": [
    "from sklearn.feature_extraction.text import TfidfVectorizer\n",
    "\n",
    "x_selected = [\"OTHER\", \"ENERGY\", \"EARTH_SCIENCE\"]\n",
    "\n",
    "df4training = df_docs[df_docs[category_col].apply(lambda x: x in x_selected)].copy()"
   ]
  },
  {
   "cell_type": "code",
   "execution_count": null,
   "id": "3ee0a681-5e05-4438-85dc-9a47cf0854b6",
   "metadata": {},
   "outputs": [],
   "source": [
    "df_docs.tail(30)"
   ]
  },
  {
   "cell_type": "code",
   "execution_count": null,
   "id": "991080b9-3e24-489d-99e0-be485e22638a",
   "metadata": {},
   "outputs": [],
   "source": [
    "df_docs[[category_col, \"name\"]].groupby(category_col).count()"
   ]
  },
  {
   "cell_type": "code",
   "execution_count": null,
   "id": "4234f1af-fa2b-46f3-bd42-bea6085a007e",
   "metadata": {},
   "outputs": [],
   "source": [
    "df4training"
   ]
  },
  {
   "cell_type": "code",
   "execution_count": null,
   "id": "37011f05-a710-4373-9b1f-40d3937c472a",
   "metadata": {},
   "outputs": [],
   "source": []
  }
 ],
 "metadata": {
  "kernelspec": {
   "display_name": "Python 3 (ipykernel)",
   "language": "python",
   "name": "python3"
  },
  "language_info": {
   "codemirror_mode": {
    "name": "ipython",
    "version": 3
   },
   "file_extension": ".py",
   "mimetype": "text/x-python",
   "name": "python",
   "nbconvert_exporter": "python",
   "pygments_lexer": "ipython3",
   "version": "3.12.6"
  }
 },
 "nbformat": 4,
 "nbformat_minor": 5
}
